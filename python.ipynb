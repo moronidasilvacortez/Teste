{
  "nbformat": 4,
  "nbformat_minor": 0,
  "metadata": {
    "colab": {
      "name": "Untitled0.ipynb",
      "provenance": [],
      "authorship_tag": "ABX9TyNDt2vfRWNwTi47P0IKBQ45",
      "include_colab_link": true
    },
    "kernelspec": {
      "name": "python3",
      "display_name": "Python 3"
    }
  },
  "cells": [
    {
      "cell_type": "markdown",
      "metadata": {
        "id": "view-in-github",
        "colab_type": "text"
      },
      "source": [
        "<a href=\"https://colab.research.google.com/github/moronii/Teste/blob/master/python.ipynb\" target=\"_parent\"><img src=\"https://colab.research.google.com/assets/colab-badge.svg\" alt=\"Open In Colab\"/></a>"
      ]
    },
    {
      "cell_type": "code",
      "metadata": {
        "id": "_dcb5vfn3Ehe"
      },
      "source": [
        "numero = 5 \n",
        "nome = \"moroni\"\n",
        "numero_decimal = 5.8 "
      ],
      "execution_count": 3,
      "outputs": []
    },
    {
      "cell_type": "code",
      "metadata": {
        "id": "i4_zm-ic4P3O",
        "outputId": "16abac85-513c-4d5f-e6fa-d520d4f8bff1",
        "colab": {
          "base_uri": "https://localhost:8080/",
          "height": 34
        }
      },
      "source": [
        "#quando dar o erro de notdefine \n",
        "\n",
        "print(variavel_inexistente)\n",
        "\n",
        "\n",
        "\n"
      ],
      "execution_count": 16,
      "outputs": [
        {
          "output_type": "stream",
          "text": [
            "5\n"
          ],
          "name": "stdout"
        }
      ]
    },
    {
      "cell_type": "code",
      "metadata": {
        "id": "6f8fcHOq7MaA",
        "outputId": "5683039e-3935-4316-cdfb-90b2536953f8",
        "colab": {
          "base_uri": "https://localhost:8080/",
          "height": 35
        }
      },
      "source": [
        "# esse  e o comentario de uma variavel\n",
        "\n",
        "\n",
        "\"\"\"\n",
        "moroni cortez\n",
        "juliane cortez\n",
        "\"\"\""
      ],
      "execution_count": 17,
      "outputs": [
        {
          "output_type": "execute_result",
          "data": {
            "application/vnd.google.colaboratory.intrinsic+json": {
              "type": "string"
            },
            "text/plain": [
              "'\\nmoroni cortez\\njuliane cortez\\n'"
            ]
          },
          "metadata": {
            "tags": []
          },
          "execution_count": 17
        }
      ]
    },
    {
      "cell_type": "code",
      "metadata": {
        "id": "x4D4g-687lgt",
        "outputId": "cc654d58-7e2e-4911-822b-e37cab1af5fe",
        "colab": {
          "base_uri": "https://localhost:8080/",
          "height": 34
        }
      },
      "source": [
        "adicao = 10 + 5 \n",
        "subtraca0 = 10 - 5\n",
        "multiplicacao = 10 * 5\n",
        "divisao = 10 / 5 \n",
        "exponenciacao = 3 ** 10\n",
        "divisao_inteira = 25 // 2 \n",
        "\n",
        "# 25 / 2 -> 12.5 \n",
        "# 25 // 2 -> 12\n",
        "# 25 / 2 , apenas inteiros, dá 12 e sobre 1\n",
        "\n",
        "\n",
        "\n",
        "\n",
        "print (adicao)"
      ],
      "execution_count": 24,
      "outputs": [
        {
          "output_type": "stream",
          "text": [
            "15\n"
          ],
          "name": "stdout"
        }
      ]
    },
    {
      "cell_type": "code",
      "metadata": {
        "id": "6BZQNSih_3FF",
        "outputId": "fece3d00-37b6-4c88-c1a1-61e35a4e2976",
        "colab": {
          "base_uri": "https://localhost:8080/",
          "height": 34
        }
      },
      "source": [
        "nome = \" moroni\"\n",
        "sobrenome = \"cortez\"\n",
        "\n",
        "print ( nome +\" \" + sobrenome) #uniao e duas informacao na programação chama-se concatenacao "
      ],
      "execution_count": 26,
      "outputs": [
        {
          "output_type": "stream",
          "text": [
            " moroni cortez\n"
          ],
          "name": "stdout"
        }
      ]
    },
    {
      "cell_type": "code",
      "metadata": {
        "id": "U3S1MIDfAh8o",
        "outputId": "37d6be29-fe54-4514-bf2a-86cb6a59f576",
        "colab": {
          "base_uri": "https://localhost:8080/",
          "height": 34
        }
      },
      "source": [
        "print(\"R$\"+str(valortotal))"
      ],
      "execution_count": 28,
      "outputs": [
        {
          "output_type": "stream",
          "text": [
            "R$43.54\n"
          ],
          "name": "stdout"
        }
      ]
    },
    {
      "cell_type": "code",
      "metadata": {
        "id": "vJPaV25sA_Dv",
        "outputId": "1a8730d9-fed1-4b1c-e3b6-72c14a29f02c",
        "colab": {
          "base_uri": "https://localhost:8080/",
          "height": 34
        }
      },
      "source": [
        "primeira_letra = nome[0]\n",
        "ultima_letra = sobrenome[0]\n",
        "\n",
        "print( primeira_letra + ultima_letra)"
      ],
      "execution_count": 30,
      "outputs": [
        {
          "output_type": "stream",
          "text": [
            " c\n"
          ],
          "name": "stdout"
        }
      ]
    },
    {
      "cell_type": "code",
      "metadata": {
        "id": "dl6GtlYh9AO_",
        "outputId": "41bcda3b-21f1-49f7-eb77-c91de416a415",
        "colab": {
          "base_uri": "https://localhost:8080/",
          "height": 34
        }
      },
      "source": [
        "refeicao = 42.54\n",
        "taxa_servico = 10\n",
        "valortotal = refeicao + taxa_servico * 10 / 100\n",
        "\n",
        "print(valortotal)\n"
      ],
      "execution_count": 31,
      "outputs": [
        {
          "output_type": "stream",
          "text": [
            "43.54\n"
          ],
          "name": "stdout"
        }
      ]
    },
    {
      "cell_type": "code",
      "metadata": {
        "id": "K7WNLVBQ5LL1"
      },
      "source": [
        "variavel_inexistente = 5 "
      ],
      "execution_count": 10,
      "outputs": []
    },
    {
      "cell_type": "code",
      "metadata": {
        "id": "QzNAVUxlF4A3",
        "outputId": "f76c9a15-c991-4a8c-d4b8-ac5fcf856aff",
        "colab": {
          "base_uri": "https://localhost:8080/",
          "height": 85
        }
      },
      "source": [
        "print ( nome)\n",
        "print (len(nome)) #quantidade de caracteres\n",
        "print (nome.lower()) #transforma o texto para minusculo\n",
        "print (nome.upper()) #transforma o texto para maiuscula \n",
        "\n"
      ],
      "execution_count": 32,
      "outputs": [
        {
          "output_type": "stream",
          "text": [
            " moroni\n",
            "7\n",
            " moroni\n",
            " MORONI\n"
          ],
          "name": "stdout"
        }
      ]
    },
    {
      "cell_type": "code",
      "metadata": {
        "id": "EB9BezavJ4RP",
        "outputId": "3bf90f67-1fc7-4bd9-9bad-5c6156dac62c",
        "colab": {
          "base_uri": "https://localhost:8080/",
          "height": 68
        }
      },
      "source": [
        "#exercicio 2 \n",
        "nome = input  (\"digite seu nome:\")\n",
        "idade = input (\"idade:\")\n",
        "genero = input (\"digite seu genero:\")\n",
        "\n",
        "      \n"
      ],
      "execution_count": 43,
      "outputs": [
        {
          "output_type": "stream",
          "text": [
            "digite seu nome:moroni\n",
            "idade:28\n",
            "digite seu genero:masculino\n"
          ],
          "name": "stdout"
        }
      ]
    },
    {
      "cell_type": "code",
      "metadata": {
        "id": "33j3gyTxMkGf",
        "outputId": "3547d4aa-61f6-41e1-e558-df0919a6048f",
        "colab": {
          "base_uri": "https://localhost:8080/",
          "height": 34
        }
      },
      "source": [
        "#importando bibliotecAS\n",
        "#Algumas sao bibliotecas built- in ja vem junto com o python \n",
        "#import datetime importa a biblioteca datetime inteira \n",
        "#import datetime as dt #importa a biblioteca inteira e muda o nome \n",
        "\n",
        "import datetime\n",
        "horario_agora = datetime.datetime.now()\n",
        "print (horario_agora)\n"
      ],
      "execution_count": 42,
      "outputs": [
        {
          "output_type": "stream",
          "text": [
            "2020-09-28 19:34:47.765901\n"
          ],
          "name": "stdout"
        }
      ]
    },
    {
      "cell_type": "code",
      "metadata": {
        "id": "NWwjTuNVKveg"
      },
      "source": [
        "***\n",
        "\n",
        "olá , {nome}, você possui {idade} anos de idade e é do genero { genero }\n",
        "já pensou no que você fará no seu aniversario de \n",
        "\n",
        "***"
      ],
      "execution_count": null,
      "outputs": []
    }
  ]
}